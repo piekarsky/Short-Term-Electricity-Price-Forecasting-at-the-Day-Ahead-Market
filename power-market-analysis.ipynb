{
 "cells": [
  {
   "cell_type": "markdown",
   "metadata": {},
   "source": [
    "## 1. Loading data"
   ]
  },
  {
   "cell_type": "markdown",
   "metadata": {},
   "source": [
    "### 1.1. Loading libraries"
   ]
  },
  {
   "cell_type": "code",
   "execution_count": 1,
   "metadata": {},
   "outputs": [
    {
     "name": "stderr",
     "output_type": "stream",
     "text": [
      "C:\\Users\\Przem\\Anaconda3\\lib\\site-packages\\tensorboard\\compat\\tensorflow_stub\\dtypes.py:541: FutureWarning: Passing (type, 1) or '1type' as a synonym of type is deprecated; in a future version of numpy, it will be understood as (type, (1,)) / '(1,)type'.\n",
      "  _np_qint8 = np.dtype([(\"qint8\", np.int8, 1)])\n",
      "C:\\Users\\Przem\\Anaconda3\\lib\\site-packages\\tensorboard\\compat\\tensorflow_stub\\dtypes.py:542: FutureWarning: Passing (type, 1) or '1type' as a synonym of type is deprecated; in a future version of numpy, it will be understood as (type, (1,)) / '(1,)type'.\n",
      "  _np_quint8 = np.dtype([(\"quint8\", np.uint8, 1)])\n",
      "C:\\Users\\Przem\\Anaconda3\\lib\\site-packages\\tensorboard\\compat\\tensorflow_stub\\dtypes.py:543: FutureWarning: Passing (type, 1) or '1type' as a synonym of type is deprecated; in a future version of numpy, it will be understood as (type, (1,)) / '(1,)type'.\n",
      "  _np_qint16 = np.dtype([(\"qint16\", np.int16, 1)])\n",
      "C:\\Users\\Przem\\Anaconda3\\lib\\site-packages\\tensorboard\\compat\\tensorflow_stub\\dtypes.py:544: FutureWarning: Passing (type, 1) or '1type' as a synonym of type is deprecated; in a future version of numpy, it will be understood as (type, (1,)) / '(1,)type'.\n",
      "  _np_quint16 = np.dtype([(\"quint16\", np.uint16, 1)])\n",
      "C:\\Users\\Przem\\Anaconda3\\lib\\site-packages\\tensorboard\\compat\\tensorflow_stub\\dtypes.py:545: FutureWarning: Passing (type, 1) or '1type' as a synonym of type is deprecated; in a future version of numpy, it will be understood as (type, (1,)) / '(1,)type'.\n",
      "  _np_qint32 = np.dtype([(\"qint32\", np.int32, 1)])\n",
      "C:\\Users\\Przem\\Anaconda3\\lib\\site-packages\\tensorboard\\compat\\tensorflow_stub\\dtypes.py:550: FutureWarning: Passing (type, 1) or '1type' as a synonym of type is deprecated; in a future version of numpy, it will be understood as (type, (1,)) / '(1,)type'.\n",
      "  np_resource = np.dtype([(\"resource\", np.ubyte, 1)])\n",
      "C:\\Users\\Przem\\Anaconda3\\lib\\site-packages\\pytorch_lightning\\utilities\\distributed.py:25: UserWarning: Unsupported `ReduceOp` for distributed computing.\n",
      "  warnings.warn(*args, **kwargs)\n"
     ]
    }
   ],
   "source": [
    "import pandas as pd\n",
    "import numpy as np\n",
    "import matplotlib.pyplot as plt\n",
    "from sklearn.preprocessing import MinMaxScaler\n",
    "import time\n",
    "import torch\n",
    "import torch.nn as nn\n",
    "import seaborn as sns\n",
    "import math\n",
    "import calendar\n",
    "from sklearn.metrics import mean_squared_error\n",
    "import pytorch_lightning as pl\n",
    "import warnings\n",
    "warnings.filterwarnings(\"ignore\")"
   ]
  },
  {
   "cell_type": "markdown",
   "metadata": {},
   "source": [
    "## 2. Preparing data for analysis"
   ]
  },
  {
   "cell_type": "markdown",
   "metadata": {},
   "source": [
    "### 2.1. Data preprocessing"
   ]
  },
  {
   "cell_type": "code",
   "execution_count": 2,
   "metadata": {},
   "outputs": [],
   "source": [
    "df = pd.read_excel('2019-2020.xlsx', skiprows=2)"
   ]
  },
  {
   "cell_type": "code",
   "execution_count": 3,
   "metadata": {},
   "outputs": [
    {
     "data": {
      "text/html": [
       "<div>\n",
       "<style scoped>\n",
       "    .dataframe tbody tr th:only-of-type {\n",
       "        vertical-align: middle;\n",
       "    }\n",
       "\n",
       "    .dataframe tbody tr th {\n",
       "        vertical-align: top;\n",
       "    }\n",
       "\n",
       "    .dataframe thead th {\n",
       "        text-align: right;\n",
       "    }\n",
       "</style>\n",
       "<table border=\"1\" class=\"dataframe\">\n",
       "  <thead>\n",
       "    <tr style=\"text-align: right;\">\n",
       "      <th></th>\n",
       "      <th>data obrotu</th>\n",
       "      <th>data dostawy</th>\n",
       "      <th>godzina dostawy</th>\n",
       "      <th>kurs fixingu I (PLN/MWh)</th>\n",
       "      <th>wolumen fixingu I (MWh)</th>\n",
       "      <th>kurs fixingu II (PLN/MWh)</th>\n",
       "      <th>wolumen fixingu II (MWh)</th>\n",
       "      <th>kurs notowan ciaglych (PLN/MWh)</th>\n",
       "      <th>wolumen notowan ciaglych (MWh)</th>\n",
       "    </tr>\n",
       "  </thead>\n",
       "  <tbody>\n",
       "    <tr>\n",
       "      <th>0</th>\n",
       "      <td>2019-01-01</td>\n",
       "      <td>2019-01-02</td>\n",
       "      <td>1</td>\n",
       "      <td>40.00</td>\n",
       "      <td>4021.5</td>\n",
       "      <td>19.85</td>\n",
       "      <td>1372.6</td>\n",
       "      <td>20.00</td>\n",
       "      <td>34.50</td>\n",
       "    </tr>\n",
       "    <tr>\n",
       "      <th>1</th>\n",
       "      <td>2019-01-01</td>\n",
       "      <td>2019-01-02</td>\n",
       "      <td>2</td>\n",
       "      <td>31.00</td>\n",
       "      <td>3950.2</td>\n",
       "      <td>2023-09-01 00:00:00</td>\n",
       "      <td>1389.6</td>\n",
       "      <td>10.00</td>\n",
       "      <td>2020-10-29 00:00:00</td>\n",
       "    </tr>\n",
       "    <tr>\n",
       "      <th>2</th>\n",
       "      <td>2019-01-01</td>\n",
       "      <td>2019-01-02</td>\n",
       "      <td>3</td>\n",
       "      <td>31.00</td>\n",
       "      <td>3951.8</td>\n",
       "      <td>2020-01-05 00:00:00</td>\n",
       "      <td>1345.9</td>\n",
       "      <td>1959-09-01 00:00:00</td>\n",
       "      <td>39.40</td>\n",
       "    </tr>\n",
       "    <tr>\n",
       "      <th>3</th>\n",
       "      <td>2019-01-01</td>\n",
       "      <td>2019-01-02</td>\n",
       "      <td>4</td>\n",
       "      <td>31.00</td>\n",
       "      <td>3991.2</td>\n",
       "      <td>1988-09-01 00:00:00</td>\n",
       "      <td>1434.5</td>\n",
       "      <td>1959-09-01 00:00:00</td>\n",
       "      <td>39.40</td>\n",
       "    </tr>\n",
       "    <tr>\n",
       "      <th>4</th>\n",
       "      <td>2019-01-01</td>\n",
       "      <td>2019-01-02</td>\n",
       "      <td>5</td>\n",
       "      <td>31.00</td>\n",
       "      <td>4035.3</td>\n",
       "      <td>1993-09-01 00:00:00</td>\n",
       "      <td>1451.8</td>\n",
       "      <td>10.00</td>\n",
       "      <td>19.30</td>\n",
       "    </tr>\n",
       "    <tr>\n",
       "      <th>...</th>\n",
       "      <td>...</td>\n",
       "      <td>...</td>\n",
       "      <td>...</td>\n",
       "      <td>...</td>\n",
       "      <td>...</td>\n",
       "      <td>...</td>\n",
       "      <td>...</td>\n",
       "      <td>...</td>\n",
       "      <td>...</td>\n",
       "    </tr>\n",
       "    <tr>\n",
       "      <th>17419</th>\n",
       "      <td>2020-12-25</td>\n",
       "      <td>2020-12-26</td>\n",
       "      <td>20</td>\n",
       "      <td>195.00</td>\n",
       "      <td>3208.2</td>\n",
       "      <td>NaN</td>\n",
       "      <td>NaN</td>\n",
       "      <td>NaN</td>\n",
       "      <td>NaN</td>\n",
       "    </tr>\n",
       "    <tr>\n",
       "      <th>17420</th>\n",
       "      <td>2020-12-25</td>\n",
       "      <td>2020-12-26</td>\n",
       "      <td>21</td>\n",
       "      <td>186.03</td>\n",
       "      <td>2951.0</td>\n",
       "      <td>NaN</td>\n",
       "      <td>NaN</td>\n",
       "      <td>NaN</td>\n",
       "      <td>NaN</td>\n",
       "    </tr>\n",
       "    <tr>\n",
       "      <th>17421</th>\n",
       "      <td>2020-12-25</td>\n",
       "      <td>2020-12-26</td>\n",
       "      <td>22</td>\n",
       "      <td>174.75</td>\n",
       "      <td>2774.2</td>\n",
       "      <td>NaN</td>\n",
       "      <td>NaN</td>\n",
       "      <td>NaN</td>\n",
       "      <td>NaN</td>\n",
       "    </tr>\n",
       "    <tr>\n",
       "      <th>17422</th>\n",
       "      <td>2020-12-25</td>\n",
       "      <td>2020-12-26</td>\n",
       "      <td>23</td>\n",
       "      <td>142.73</td>\n",
       "      <td>2971.2</td>\n",
       "      <td>NaN</td>\n",
       "      <td>NaN</td>\n",
       "      <td>NaN</td>\n",
       "      <td>NaN</td>\n",
       "    </tr>\n",
       "    <tr>\n",
       "      <th>17423</th>\n",
       "      <td>2020-12-25</td>\n",
       "      <td>2020-12-26</td>\n",
       "      <td>24</td>\n",
       "      <td>100.00</td>\n",
       "      <td>3307.7</td>\n",
       "      <td>NaN</td>\n",
       "      <td>NaN</td>\n",
       "      <td>NaN</td>\n",
       "      <td>NaN</td>\n",
       "    </tr>\n",
       "  </tbody>\n",
       "</table>\n",
       "<p>17424 rows × 9 columns</p>\n",
       "</div>"
      ],
      "text/plain": [
       "      data obrotu data dostawy godzina dostawy  kurs fixingu I (PLN/MWh)  \\\n",
       "0      2019-01-01   2019-01-02               1                     40.00   \n",
       "1      2019-01-01   2019-01-02               2                     31.00   \n",
       "2      2019-01-01   2019-01-02               3                     31.00   \n",
       "3      2019-01-01   2019-01-02               4                     31.00   \n",
       "4      2019-01-01   2019-01-02               5                     31.00   \n",
       "...           ...          ...             ...                       ...   \n",
       "17419  2020-12-25   2020-12-26              20                    195.00   \n",
       "17420  2020-12-25   2020-12-26              21                    186.03   \n",
       "17421  2020-12-25   2020-12-26              22                    174.75   \n",
       "17422  2020-12-25   2020-12-26              23                    142.73   \n",
       "17423  2020-12-25   2020-12-26              24                    100.00   \n",
       "\n",
       "       wolumen fixingu I (MWh) kurs fixingu II (PLN/MWh)  \\\n",
       "0                       4021.5                     19.85   \n",
       "1                       3950.2       2023-09-01 00:00:00   \n",
       "2                       3951.8       2020-01-05 00:00:00   \n",
       "3                       3991.2       1988-09-01 00:00:00   \n",
       "4                       4035.3       1993-09-01 00:00:00   \n",
       "...                        ...                       ...   \n",
       "17419                   3208.2                       NaN   \n",
       "17420                   2951.0                       NaN   \n",
       "17421                   2774.2                       NaN   \n",
       "17422                   2971.2                       NaN   \n",
       "17423                   3307.7                       NaN   \n",
       "\n",
       "       wolumen fixingu II (MWh) kurs notowan ciaglych (PLN/MWh)  \\\n",
       "0                        1372.6                           20.00   \n",
       "1                        1389.6                           10.00   \n",
       "2                        1345.9             1959-09-01 00:00:00   \n",
       "3                        1434.5             1959-09-01 00:00:00   \n",
       "4                        1451.8                           10.00   \n",
       "...                         ...                             ...   \n",
       "17419                       NaN                             NaN   \n",
       "17420                       NaN                             NaN   \n",
       "17421                       NaN                             NaN   \n",
       "17422                       NaN                             NaN   \n",
       "17423                       NaN                             NaN   \n",
       "\n",
       "      wolumen notowan ciaglych (MWh)  \n",
       "0                              34.50  \n",
       "1                2020-10-29 00:00:00  \n",
       "2                              39.40  \n",
       "3                              39.40  \n",
       "4                              19.30  \n",
       "...                              ...  \n",
       "17419                            NaN  \n",
       "17420                            NaN  \n",
       "17421                            NaN  \n",
       "17422                            NaN  \n",
       "17423                            NaN  \n",
       "\n",
       "[17424 rows x 9 columns]"
      ]
     },
     "execution_count": 3,
     "metadata": {},
     "output_type": "execute_result"
    }
   ],
   "source": [
    "df"
   ]
  },
  {
   "cell_type": "code",
   "execution_count": 4,
   "metadata": {},
   "outputs": [
    {
     "data": {
      "text/html": [
       "<style  type=\"text/css\" >\n",
       "    #T_467050c2_7ec0_11eb_9089_84a93e013a85 th {\n",
       "          background: #008080;\n",
       "          color: white;\n",
       "          font-family: verdana;\n",
       "    }    #T_467050c2_7ec0_11eb_9089_84a93e013a85 td {\n",
       "          font-family: verdana;\n",
       "          color: black;\n",
       "    }    #T_467050c2_7ec0_11eb_9089_84a93e013a85 tr:nth-of-type(odd) {\n",
       "          background: #DCDCDC;\n",
       "    }    #T_467050c2_7ec0_11eb_9089_84a93e013a85 tr:nth-of-type(even) {\n",
       "          background: white;\n",
       "    }    #T_467050c2_7ec0_11eb_9089_84a93e013a85 tr:hover {\n",
       "          background: yellow;\n",
       "    }</style><table id=\"T_467050c2_7ec0_11eb_9089_84a93e013a85\" ><thead>    <tr>        <th class=\"col_heading level0 col0\" >data obrotu</th>        <th class=\"col_heading level0 col1\" >data dostawy</th>        <th class=\"col_heading level0 col2\" >godzina dostawy</th>        <th class=\"col_heading level0 col3\" >kurs fixingu I (PLN/MWh)</th>        <th class=\"col_heading level0 col4\" >wolumen fixingu I (MWh)</th>        <th class=\"col_heading level0 col5\" >kurs fixingu II (PLN/MWh)</th>        <th class=\"col_heading level0 col6\" >wolumen fixingu II (MWh)</th>        <th class=\"col_heading level0 col7\" >kurs notowan ciaglych (PLN/MWh)</th>        <th class=\"col_heading level0 col8\" >wolumen notowan ciaglych (MWh)</th>    </tr></thead><tbody>\n",
       "                <tr>\n",
       "                                <td id=\"T_467050c2_7ec0_11eb_9089_84a93e013a85row0_col0\" class=\"data row0 col0\" >2019-01-01 00:00:00</td>\n",
       "                        <td id=\"T_467050c2_7ec0_11eb_9089_84a93e013a85row0_col1\" class=\"data row0 col1\" >2019-01-02 00:00:00</td>\n",
       "                        <td id=\"T_467050c2_7ec0_11eb_9089_84a93e013a85row0_col2\" class=\"data row0 col2\" >1</td>\n",
       "                        <td id=\"T_467050c2_7ec0_11eb_9089_84a93e013a85row0_col3\" class=\"data row0 col3\" >40.000000</td>\n",
       "                        <td id=\"T_467050c2_7ec0_11eb_9089_84a93e013a85row0_col4\" class=\"data row0 col4\" >4021.500000</td>\n",
       "                        <td id=\"T_467050c2_7ec0_11eb_9089_84a93e013a85row0_col5\" class=\"data row0 col5\" >19.85</td>\n",
       "                        <td id=\"T_467050c2_7ec0_11eb_9089_84a93e013a85row0_col6\" class=\"data row0 col6\" >1372.600000</td>\n",
       "                        <td id=\"T_467050c2_7ec0_11eb_9089_84a93e013a85row0_col7\" class=\"data row0 col7\" >20.00</td>\n",
       "                        <td id=\"T_467050c2_7ec0_11eb_9089_84a93e013a85row0_col8\" class=\"data row0 col8\" >34.50</td>\n",
       "            </tr>\n",
       "            <tr>\n",
       "                                <td id=\"T_467050c2_7ec0_11eb_9089_84a93e013a85row1_col0\" class=\"data row1 col0\" >2019-01-01 00:00:00</td>\n",
       "                        <td id=\"T_467050c2_7ec0_11eb_9089_84a93e013a85row1_col1\" class=\"data row1 col1\" >2019-01-02 00:00:00</td>\n",
       "                        <td id=\"T_467050c2_7ec0_11eb_9089_84a93e013a85row1_col2\" class=\"data row1 col2\" >2</td>\n",
       "                        <td id=\"T_467050c2_7ec0_11eb_9089_84a93e013a85row1_col3\" class=\"data row1 col3\" >31.000000</td>\n",
       "                        <td id=\"T_467050c2_7ec0_11eb_9089_84a93e013a85row1_col4\" class=\"data row1 col4\" >3950.200000</td>\n",
       "                        <td id=\"T_467050c2_7ec0_11eb_9089_84a93e013a85row1_col5\" class=\"data row1 col5\" >2023-09-01 00:00:00</td>\n",
       "                        <td id=\"T_467050c2_7ec0_11eb_9089_84a93e013a85row1_col6\" class=\"data row1 col6\" >1389.600000</td>\n",
       "                        <td id=\"T_467050c2_7ec0_11eb_9089_84a93e013a85row1_col7\" class=\"data row1 col7\" >10.00</td>\n",
       "                        <td id=\"T_467050c2_7ec0_11eb_9089_84a93e013a85row1_col8\" class=\"data row1 col8\" >2020-10-29 00:00:00</td>\n",
       "            </tr>\n",
       "            <tr>\n",
       "                                <td id=\"T_467050c2_7ec0_11eb_9089_84a93e013a85row2_col0\" class=\"data row2 col0\" >2019-01-01 00:00:00</td>\n",
       "                        <td id=\"T_467050c2_7ec0_11eb_9089_84a93e013a85row2_col1\" class=\"data row2 col1\" >2019-01-02 00:00:00</td>\n",
       "                        <td id=\"T_467050c2_7ec0_11eb_9089_84a93e013a85row2_col2\" class=\"data row2 col2\" >3</td>\n",
       "                        <td id=\"T_467050c2_7ec0_11eb_9089_84a93e013a85row2_col3\" class=\"data row2 col3\" >31.000000</td>\n",
       "                        <td id=\"T_467050c2_7ec0_11eb_9089_84a93e013a85row2_col4\" class=\"data row2 col4\" >3951.800000</td>\n",
       "                        <td id=\"T_467050c2_7ec0_11eb_9089_84a93e013a85row2_col5\" class=\"data row2 col5\" >2020-01-05 00:00:00</td>\n",
       "                        <td id=\"T_467050c2_7ec0_11eb_9089_84a93e013a85row2_col6\" class=\"data row2 col6\" >1345.900000</td>\n",
       "                        <td id=\"T_467050c2_7ec0_11eb_9089_84a93e013a85row2_col7\" class=\"data row2 col7\" >1959-09-01 00:00:00</td>\n",
       "                        <td id=\"T_467050c2_7ec0_11eb_9089_84a93e013a85row2_col8\" class=\"data row2 col8\" >39.40</td>\n",
       "            </tr>\n",
       "            <tr>\n",
       "                                <td id=\"T_467050c2_7ec0_11eb_9089_84a93e013a85row3_col0\" class=\"data row3 col0\" >2019-01-01 00:00:00</td>\n",
       "                        <td id=\"T_467050c2_7ec0_11eb_9089_84a93e013a85row3_col1\" class=\"data row3 col1\" >2019-01-02 00:00:00</td>\n",
       "                        <td id=\"T_467050c2_7ec0_11eb_9089_84a93e013a85row3_col2\" class=\"data row3 col2\" >4</td>\n",
       "                        <td id=\"T_467050c2_7ec0_11eb_9089_84a93e013a85row3_col3\" class=\"data row3 col3\" >31.000000</td>\n",
       "                        <td id=\"T_467050c2_7ec0_11eb_9089_84a93e013a85row3_col4\" class=\"data row3 col4\" >3991.200000</td>\n",
       "                        <td id=\"T_467050c2_7ec0_11eb_9089_84a93e013a85row3_col5\" class=\"data row3 col5\" >1988-09-01 00:00:00</td>\n",
       "                        <td id=\"T_467050c2_7ec0_11eb_9089_84a93e013a85row3_col6\" class=\"data row3 col6\" >1434.500000</td>\n",
       "                        <td id=\"T_467050c2_7ec0_11eb_9089_84a93e013a85row3_col7\" class=\"data row3 col7\" >1959-09-01 00:00:00</td>\n",
       "                        <td id=\"T_467050c2_7ec0_11eb_9089_84a93e013a85row3_col8\" class=\"data row3 col8\" >39.40</td>\n",
       "            </tr>\n",
       "            <tr>\n",
       "                                <td id=\"T_467050c2_7ec0_11eb_9089_84a93e013a85row4_col0\" class=\"data row4 col0\" >2019-01-01 00:00:00</td>\n",
       "                        <td id=\"T_467050c2_7ec0_11eb_9089_84a93e013a85row4_col1\" class=\"data row4 col1\" >2019-01-02 00:00:00</td>\n",
       "                        <td id=\"T_467050c2_7ec0_11eb_9089_84a93e013a85row4_col2\" class=\"data row4 col2\" >5</td>\n",
       "                        <td id=\"T_467050c2_7ec0_11eb_9089_84a93e013a85row4_col3\" class=\"data row4 col3\" >31.000000</td>\n",
       "                        <td id=\"T_467050c2_7ec0_11eb_9089_84a93e013a85row4_col4\" class=\"data row4 col4\" >4035.300000</td>\n",
       "                        <td id=\"T_467050c2_7ec0_11eb_9089_84a93e013a85row4_col5\" class=\"data row4 col5\" >1993-09-01 00:00:00</td>\n",
       "                        <td id=\"T_467050c2_7ec0_11eb_9089_84a93e013a85row4_col6\" class=\"data row4 col6\" >1451.800000</td>\n",
       "                        <td id=\"T_467050c2_7ec0_11eb_9089_84a93e013a85row4_col7\" class=\"data row4 col7\" >10.00</td>\n",
       "                        <td id=\"T_467050c2_7ec0_11eb_9089_84a93e013a85row4_col8\" class=\"data row4 col8\" >19.30</td>\n",
       "            </tr>\n",
       "            <tr>\n",
       "                                <td id=\"T_467050c2_7ec0_11eb_9089_84a93e013a85row5_col0\" class=\"data row5 col0\" >2019-01-01 00:00:00</td>\n",
       "                        <td id=\"T_467050c2_7ec0_11eb_9089_84a93e013a85row5_col1\" class=\"data row5 col1\" >2019-01-02 00:00:00</td>\n",
       "                        <td id=\"T_467050c2_7ec0_11eb_9089_84a93e013a85row5_col2\" class=\"data row5 col2\" >6</td>\n",
       "                        <td id=\"T_467050c2_7ec0_11eb_9089_84a93e013a85row5_col3\" class=\"data row5 col3\" >45.000000</td>\n",
       "                        <td id=\"T_467050c2_7ec0_11eb_9089_84a93e013a85row5_col4\" class=\"data row5 col4\" >4210.700000</td>\n",
       "                        <td id=\"T_467050c2_7ec0_11eb_9089_84a93e013a85row5_col5\" class=\"data row5 col5\" >26.41</td>\n",
       "                        <td id=\"T_467050c2_7ec0_11eb_9089_84a93e013a85row5_col6\" class=\"data row5 col6\" >1478.400000</td>\n",
       "                        <td id=\"T_467050c2_7ec0_11eb_9089_84a93e013a85row5_col7\" class=\"data row5 col7\" >20.00</td>\n",
       "                        <td id=\"T_467050c2_7ec0_11eb_9089_84a93e013a85row5_col8\" class=\"data row5 col8\" >1970-07-01 00:00:00</td>\n",
       "            </tr>\n",
       "            <tr>\n",
       "                                <td id=\"T_467050c2_7ec0_11eb_9089_84a93e013a85row6_col0\" class=\"data row6 col0\" >2019-01-01 00:00:00</td>\n",
       "                        <td id=\"T_467050c2_7ec0_11eb_9089_84a93e013a85row6_col1\" class=\"data row6 col1\" >2019-01-02 00:00:00</td>\n",
       "                        <td id=\"T_467050c2_7ec0_11eb_9089_84a93e013a85row6_col2\" class=\"data row6 col2\" >7</td>\n",
       "                        <td id=\"T_467050c2_7ec0_11eb_9089_84a93e013a85row6_col3\" class=\"data row6 col3\" >108.500000</td>\n",
       "                        <td id=\"T_467050c2_7ec0_11eb_9089_84a93e013a85row6_col4\" class=\"data row6 col4\" >3822.300000</td>\n",
       "                        <td id=\"T_467050c2_7ec0_11eb_9089_84a93e013a85row6_col5\" class=\"data row6 col5\" >189.24</td>\n",
       "                        <td id=\"T_467050c2_7ec0_11eb_9089_84a93e013a85row6_col6\" class=\"data row6 col6\" >1017.200000</td>\n",
       "                        <td id=\"T_467050c2_7ec0_11eb_9089_84a93e013a85row6_col7\" class=\"data row6 col7\" >-</td>\n",
       "                        <td id=\"T_467050c2_7ec0_11eb_9089_84a93e013a85row6_col8\" class=\"data row6 col8\" >-</td>\n",
       "            </tr>\n",
       "            <tr>\n",
       "                                <td id=\"T_467050c2_7ec0_11eb_9089_84a93e013a85row7_col0\" class=\"data row7 col0\" >2019-01-01 00:00:00</td>\n",
       "                        <td id=\"T_467050c2_7ec0_11eb_9089_84a93e013a85row7_col1\" class=\"data row7 col1\" >2019-01-02 00:00:00</td>\n",
       "                        <td id=\"T_467050c2_7ec0_11eb_9089_84a93e013a85row7_col2\" class=\"data row7 col2\" >8</td>\n",
       "                        <td id=\"T_467050c2_7ec0_11eb_9089_84a93e013a85row7_col3\" class=\"data row7 col3\" >175.070000</td>\n",
       "                        <td id=\"T_467050c2_7ec0_11eb_9089_84a93e013a85row7_col4\" class=\"data row7 col4\" >5218.100000</td>\n",
       "                        <td id=\"T_467050c2_7ec0_11eb_9089_84a93e013a85row7_col5\" class=\"data row7 col5\" >213.27</td>\n",
       "                        <td id=\"T_467050c2_7ec0_11eb_9089_84a93e013a85row7_col6\" class=\"data row7 col6\" >1041.300000</td>\n",
       "                        <td id=\"T_467050c2_7ec0_11eb_9089_84a93e013a85row7_col7\" class=\"data row7 col7\" >-</td>\n",
       "                        <td id=\"T_467050c2_7ec0_11eb_9089_84a93e013a85row7_col8\" class=\"data row7 col8\" >-</td>\n",
       "            </tr>\n",
       "            <tr>\n",
       "                                <td id=\"T_467050c2_7ec0_11eb_9089_84a93e013a85row8_col0\" class=\"data row8 col0\" >2019-01-01 00:00:00</td>\n",
       "                        <td id=\"T_467050c2_7ec0_11eb_9089_84a93e013a85row8_col1\" class=\"data row8 col1\" >2019-01-02 00:00:00</td>\n",
       "                        <td id=\"T_467050c2_7ec0_11eb_9089_84a93e013a85row8_col2\" class=\"data row8 col2\" >9</td>\n",
       "                        <td id=\"T_467050c2_7ec0_11eb_9089_84a93e013a85row8_col3\" class=\"data row8 col3\" >197.940000</td>\n",
       "                        <td id=\"T_467050c2_7ec0_11eb_9089_84a93e013a85row8_col4\" class=\"data row8 col4\" >4519.800000</td>\n",
       "                        <td id=\"T_467050c2_7ec0_11eb_9089_84a93e013a85row8_col5\" class=\"data row8 col5\" >214.63</td>\n",
       "                        <td id=\"T_467050c2_7ec0_11eb_9089_84a93e013a85row8_col6\" class=\"data row8 col6\" >715.000000</td>\n",
       "                        <td id=\"T_467050c2_7ec0_11eb_9089_84a93e013a85row8_col7\" class=\"data row8 col7\" >-</td>\n",
       "                        <td id=\"T_467050c2_7ec0_11eb_9089_84a93e013a85row8_col8\" class=\"data row8 col8\" >-</td>\n",
       "            </tr>\n",
       "            <tr>\n",
       "                                <td id=\"T_467050c2_7ec0_11eb_9089_84a93e013a85row9_col0\" class=\"data row9 col0\" >2019-01-01 00:00:00</td>\n",
       "                        <td id=\"T_467050c2_7ec0_11eb_9089_84a93e013a85row9_col1\" class=\"data row9 col1\" >2019-01-02 00:00:00</td>\n",
       "                        <td id=\"T_467050c2_7ec0_11eb_9089_84a93e013a85row9_col2\" class=\"data row9 col2\" >10</td>\n",
       "                        <td id=\"T_467050c2_7ec0_11eb_9089_84a93e013a85row9_col3\" class=\"data row9 col3\" >201.980000</td>\n",
       "                        <td id=\"T_467050c2_7ec0_11eb_9089_84a93e013a85row9_col4\" class=\"data row9 col4\" >3911.200000</td>\n",
       "                        <td id=\"T_467050c2_7ec0_11eb_9089_84a93e013a85row9_col5\" class=\"data row9 col5\" >217.98</td>\n",
       "                        <td id=\"T_467050c2_7ec0_11eb_9089_84a93e013a85row9_col6\" class=\"data row9 col6\" >657.400000</td>\n",
       "                        <td id=\"T_467050c2_7ec0_11eb_9089_84a93e013a85row9_col7\" class=\"data row9 col7\" >218.00</td>\n",
       "                        <td id=\"T_467050c2_7ec0_11eb_9089_84a93e013a85row9_col8\" class=\"data row9 col8\" >9.00</td>\n",
       "            </tr>\n",
       "    </tbody></table>"
      ],
      "text/plain": [
       "<pandas.io.formats.style.Styler at 0x21c51373128>"
      ]
     },
     "execution_count": 4,
     "metadata": {},
     "output_type": "execute_result"
    }
   ],
   "source": [
    "df.head(10).style.set_table_styles(\n",
    "[{'selector': 'th',\n",
    "  'props': [('background', '#008080'), \n",
    "            ('color', 'white'),\n",
    "            ('font-family', 'verdana')]},\n",
    " {'selector': 'td',\n",
    "  'props': [('font-family', 'verdana'),\n",
    "            ('color', 'black')]},\n",
    "\n",
    " {'selector': 'tr:nth-of-type(odd)',\n",
    "  'props': [('background', '#DCDCDC')]}, \n",
    " \n",
    "  {'selector': 'tr:nth-of-type(even)',\n",
    "  'props': [('background', 'white')]},\n",
    " \n",
    "  {'selector': 'tr:hover',\n",
    "  'props': [('background', 'yellow')]},\n",
    "]).hide_index()"
   ]
  },
  {
   "cell_type": "code",
   "execution_count": 5,
   "metadata": {},
   "outputs": [
    {
     "data": {
      "text/plain": [
       "(17424, 9)"
      ]
     },
     "execution_count": 5,
     "metadata": {},
     "output_type": "execute_result"
    }
   ],
   "source": [
    "df.shape"
   ]
  },
  {
   "cell_type": "code",
   "execution_count": 6,
   "metadata": {},
   "outputs": [
    {
     "data": {
      "text/plain": [
       "0"
      ]
     },
     "execution_count": 6,
     "metadata": {},
     "output_type": "execute_result"
    }
   ],
   "source": [
    "df['godzina dostawy'].isnull().sum()"
   ]
  },
  {
   "cell_type": "code",
   "execution_count": 7,
   "metadata": {},
   "outputs": [],
   "source": [
    "df['godzina dostawy'] = pd.to_numeric(df['godzina dostawy'], errors='coerce')\n",
    "df['date'] = pd.to_datetime(df['data dostawy']) + pd.to_timedelta(df['godzina dostawy'], unit='h')\n",
    "\n",
    "df = pd.DataFrame(data={'date': df['date'], 'fixing I course (PLN/MWh)':df['kurs fixingu I (PLN/MWh)']})\n",
    "df['month'] = pd.DatetimeIndex(df['date']).month\n",
    "df['month_name'] = pd.to_datetime(df['month'], format='%m').dt.month_name()\n",
    "df['hour'] = df.date.dt.hour\n",
    "df['week'] = pd.to_datetime(df['date']).dt.week\n",
    "df['date_normalize'] = pd.to_datetime(df['date']).dt.strftime('%Y-%m-%d') \n",
    "df['day_of_week'] = pd.to_datetime(df['date']).dt.dayofweek\n",
    "df['day_of_month'] = pd.to_datetime(df['date_normalize']).dt.day\n",
    "df['md'] = pd.to_datetime(df['date']).dt.strftime('%m-%d') "
   ]
  },
  {
   "cell_type": "code",
   "execution_count": 8,
   "metadata": {},
   "outputs": [],
   "source": [
    "def season_of_date(date):\n",
    "    \n",
    "    seasons = {'spring': pd.date_range(start='2019-03-21', end='2019-06-20').strftime('%m-%d'),\n",
    "               'summer': pd.date_range(start='2019-06-21', end='2019-09-22').strftime('%m-%d'),\n",
    "               'autumn': pd.date_range(start='2019-09-23', end='2019-12-20').strftime('%m-%d')}\n",
    "    if date in seasons['spring']:\n",
    "        return 'Spring'\n",
    "    if date in seasons['summer']:\n",
    "        return 'Summer'\n",
    "    if date in seasons['autumn']:\n",
    "        return 'Autumn'\n",
    "    else:\n",
    "        return 'Winter'"
   ]
  },
  {
   "cell_type": "code",
   "execution_count": 9,
   "metadata": {},
   "outputs": [],
   "source": [
    "df['season'] = df.md.map(season_of_date)"
   ]
  },
  {
   "cell_type": "code",
   "execution_count": 10,
   "metadata": {},
   "outputs": [],
   "source": [
    "# names of months in Polish \n",
    "def polish_label_r(row):\n",
    "    if row['month_name'] == 'January':\n",
    "        return 'Styczeń'\n",
    "    if row['month_name'] == 'February':\n",
    "        return 'Luty'\n",
    "    if row['month_name'] == 'March':\n",
    "        return 'Marzec'\n",
    "    if row['month_name'] == 'April':\n",
    "        return 'Kwiecień'\n",
    "    if row['month_name'] == 'May':\n",
    "        return 'Maj'\n",
    "    if row['month_name'] == 'June':\n",
    "        return 'Czerwiec'\n",
    "    if row['month_name'] == 'July':\n",
    "        return 'Lipiec'\n",
    "    if row['month_name'] == 'August':\n",
    "        return 'Sierpień'\n",
    "    if row['month_name'] == 'September':\n",
    "        return 'Wrzesień'\n",
    "    if row['month_name'] == 'October':\n",
    "        return 'Październik'\n",
    "    if row['month_name'] == 'November':\n",
    "        return 'Listopad'\n",
    "    if row['month_name'] == 'December':\n",
    "        return 'Grudzień'\n"
   ]
  },
  {
   "cell_type": "code",
   "execution_count": 11,
   "metadata": {},
   "outputs": [],
   "source": [
    "df['pl_month_name'] = df.apply(lambda row: polish_label_r(row), axis=1)"
   ]
  },
  {
   "cell_type": "code",
   "execution_count": 12,
   "metadata": {},
   "outputs": [],
   "source": [
    "df2019 = df[df['date']<'2020-01-01 00:00:00'].reset_index(drop=True)\n",
    "df2020 = df[df['date']>='2020-01-01 00:00:00'].reset_index(drop=True)\n"
   ]
  },
  {
   "cell_type": "code",
   "execution_count": 13,
   "metadata": {},
   "outputs": [],
   "source": [
    "df2019_monthly = df2019.groupby(['month_name']).agg({'fixing I course (PLN/MWh)':['mean', 'std']}).reset_index()\n",
    "df2020_monthly = df2020.groupby(['month_name']).agg({'fixing I course (PLN/MWh)':['mean', 'std']}).reset_index()\n",
    "\n",
    "df2019_monthly = df2019_monthly.rename(columns={\"fixing I course (PLN/MWh)\": \"fixing I course 2019\"}) \n",
    "df2020_monthly = df2020_monthly.rename(columns={\"fixing I course (PLN/MWh)\": \"fixing I course 2020\"}) \n",
    "\n",
    "df_fx_monthly = pd.merge(df2019_monthly, df2020_monthly, how='inner', on=['month_name']) "
   ]
  },
  {
   "cell_type": "code",
   "execution_count": 14,
   "metadata": {},
   "outputs": [],
   "source": [
    "cats = [\"January\", \"February\", \"March\", \"April\", \"May\", \n",
    "        \"June\", \"July\", \"August\", \"September\", \"October\", \"November\", \"December\"]\n",
    "df_fx_monthly['month_name'] = pd.Categorical(df_fx_monthly['month_name'], categories=cats, ordered=True)\n",
    "df_fx_monthly = df_fx_monthly.sort_values('month_name').reset_index(drop=True)"
   ]
  },
  {
   "cell_type": "code",
   "execution_count": 15,
   "metadata": {},
   "outputs": [
    {
     "data": {
      "text/html": [
       "<div>\n",
       "<style scoped>\n",
       "    .dataframe tbody tr th:only-of-type {\n",
       "        vertical-align: middle;\n",
       "    }\n",
       "\n",
       "    .dataframe tbody tr th {\n",
       "        vertical-align: top;\n",
       "    }\n",
       "\n",
       "    .dataframe thead tr th {\n",
       "        text-align: left;\n",
       "    }\n",
       "</style>\n",
       "<table border=\"1\" class=\"dataframe\">\n",
       "  <thead>\n",
       "    <tr>\n",
       "      <th></th>\n",
       "      <th>month_name</th>\n",
       "      <th colspan=\"2\" halign=\"left\">fixing I course 2019</th>\n",
       "      <th colspan=\"2\" halign=\"left\">fixing I course 2020</th>\n",
       "    </tr>\n",
       "    <tr>\n",
       "      <th></th>\n",
       "      <th></th>\n",
       "      <th>mean</th>\n",
       "      <th>std</th>\n",
       "      <th>mean</th>\n",
       "      <th>std</th>\n",
       "    </tr>\n",
       "  </thead>\n",
       "  <tbody>\n",
       "    <tr>\n",
       "      <th>0</th>\n",
       "      <td>January</td>\n",
       "      <td>246.159666</td>\n",
       "      <td>61.076298</td>\n",
       "      <td>191.011062</td>\n",
       "      <td>43.146024</td>\n",
       "    </tr>\n",
       "    <tr>\n",
       "      <th>1</th>\n",
       "      <td>February</td>\n",
       "      <td>214.887188</td>\n",
       "      <td>41.679537</td>\n",
       "      <td>176.725517</td>\n",
       "      <td>52.982464</td>\n",
       "    </tr>\n",
       "    <tr>\n",
       "      <th>2</th>\n",
       "      <td>March</td>\n",
       "      <td>199.216326</td>\n",
       "      <td>39.305834</td>\n",
       "      <td>165.831844</td>\n",
       "      <td>46.175310</td>\n",
       "    </tr>\n",
       "    <tr>\n",
       "      <th>3</th>\n",
       "      <td>April</td>\n",
       "      <td>227.157708</td>\n",
       "      <td>41.537521</td>\n",
       "      <td>151.707708</td>\n",
       "      <td>29.625892</td>\n",
       "    </tr>\n",
       "    <tr>\n",
       "      <th>4</th>\n",
       "      <td>May</td>\n",
       "      <td>240.303602</td>\n",
       "      <td>41.354861</td>\n",
       "      <td>172.192137</td>\n",
       "      <td>31.405487</td>\n",
       "    </tr>\n",
       "    <tr>\n",
       "      <th>5</th>\n",
       "      <td>June</td>\n",
       "      <td>250.604653</td>\n",
       "      <td>54.178740</td>\n",
       "      <td>217.278208</td>\n",
       "      <td>33.618817</td>\n",
       "    </tr>\n",
       "    <tr>\n",
       "      <th>6</th>\n",
       "      <td>July</td>\n",
       "      <td>239.451022</td>\n",
       "      <td>43.920551</td>\n",
       "      <td>222.505618</td>\n",
       "      <td>24.483365</td>\n",
       "    </tr>\n",
       "    <tr>\n",
       "      <th>7</th>\n",
       "      <td>August</td>\n",
       "      <td>267.395685</td>\n",
       "      <td>35.212064</td>\n",
       "      <td>231.319597</td>\n",
       "      <td>36.808373</td>\n",
       "    </tr>\n",
       "    <tr>\n",
       "      <th>8</th>\n",
       "      <td>September</td>\n",
       "      <td>243.292347</td>\n",
       "      <td>38.327626</td>\n",
       "      <td>242.856528</td>\n",
       "      <td>42.755387</td>\n",
       "    </tr>\n",
       "    <tr>\n",
       "      <th>9</th>\n",
       "      <td>October</td>\n",
       "      <td>229.913199</td>\n",
       "      <td>40.728084</td>\n",
       "      <td>240.093992</td>\n",
       "      <td>45.131155</td>\n",
       "    </tr>\n",
       "    <tr>\n",
       "      <th>10</th>\n",
       "      <td>November</td>\n",
       "      <td>215.854097</td>\n",
       "      <td>38.477430</td>\n",
       "      <td>243.809625</td>\n",
       "      <td>51.683986</td>\n",
       "    </tr>\n",
       "    <tr>\n",
       "      <th>11</th>\n",
       "      <td>December</td>\n",
       "      <td>189.271398</td>\n",
       "      <td>47.748601</td>\n",
       "      <td>261.839753</td>\n",
       "      <td>74.304640</td>\n",
       "    </tr>\n",
       "  </tbody>\n",
       "</table>\n",
       "</div>"
      ],
      "text/plain": [
       "   month_name fixing I course 2019            fixing I course 2020           \n",
       "                              mean        std                 mean        std\n",
       "0     January           246.159666  61.076298           191.011062  43.146024\n",
       "1    February           214.887188  41.679537           176.725517  52.982464\n",
       "2       March           199.216326  39.305834           165.831844  46.175310\n",
       "3       April           227.157708  41.537521           151.707708  29.625892\n",
       "4         May           240.303602  41.354861           172.192137  31.405487\n",
       "5        June           250.604653  54.178740           217.278208  33.618817\n",
       "6        July           239.451022  43.920551           222.505618  24.483365\n",
       "7      August           267.395685  35.212064           231.319597  36.808373\n",
       "8   September           243.292347  38.327626           242.856528  42.755387\n",
       "9     October           229.913199  40.728084           240.093992  45.131155\n",
       "10   November           215.854097  38.477430           243.809625  51.683986\n",
       "11   December           189.271398  47.748601           261.839753  74.304640"
      ]
     },
     "execution_count": 15,
     "metadata": {},
     "output_type": "execute_result"
    }
   ],
   "source": [
    "df_fx_monthly"
   ]
  },
  {
   "cell_type": "markdown",
   "metadata": {},
   "source": [
    "### 2.2. Checking outliers "
   ]
  },
  {
   "cell_type": "code",
   "execution_count": 16,
   "metadata": {},
   "outputs": [
    {
     "data": {
      "image/png": "[encoded data removed]",
      "text/plain": [
       "<Figure size 1008x576 with 1 Axes>"
      ]
     },
     "metadata": {
      "needs_background": "light"
     },
     "output_type": "display_data"
    }
   ],
   "source": [
    "# box-plot to check outliers in individual hours for 2019\n",
    "outpoints_hourly_2019 = df2019.pivot_table(index='date_normalize', \n",
    "                     columns=df2019['hour'], \n",
    "                     values='fixing I course (PLN/MWh)', \n",
    "                     aggfunc='mean').boxplot(figsize=(14,8)).set(title = \"Checking outliers\", xlabel = \"Hour of day\", ylabel = \"fixing I course (PLN/MWh)\")"
   ]
  },
  {
   "cell_type": "code",
   "execution_count": 17,
   "metadata": {},
   "outputs": [
    {
     "data": {
      "image/png": "[encoded data removed]",
      "text/plain": [
       "<Figure size 1008x576 with 1 Axes>"
      ]
     },
     "metadata": {
      "needs_background": "light"
     },
     "output_type": "display_data"
    }
   ],
   "source": [
    "# box-plot to check outliers in individual hours for 2020\n",
    "outpoints_hourly_2020 = df2020.pivot_table(index='date_normalize', \n",
    "                     columns=df2020['hour'], \n",
    "                     values='fixing I course (PLN/MWh)', \n",
    "                     aggfunc='mean').boxplot(figsize=(14,8)).set(title = \"Checking outliers\", xlabel = \"Hour of day\", ylabel = \"fixing I course (PLN/MWh)\")"
   ]
  },
  {
   "cell_type": "code",
   "execution_count": 18,
   "metadata": {},
   "outputs": [],
   "source": [
    "df2019.to_excel(\"data_2019.xlsx\")  \n",
    "df2020.to_excel(\"data_2020.xlsx\")  "
   ]
  },
  {
   "cell_type": "markdown",
   "metadata": {},
   "source": [
    "## 3. Exploratory data analysis"
   ]
  },
  {
   "cell_type": "code",
   "execution_count": 19,
   "metadata": {},
   "outputs": [],
   "source": [
    "df2019_monthly = df2019.groupby(['month_name']).agg({'fixing I course (PLN/MWh)':['mean', 'std']}).reset_index()\n",
    "df2020_monthly = df2020.groupby(['month_name']).agg({'fixing I course (PLN/MWh)':['mean', 'std']}).reset_index()"
   ]
  },
  {
   "cell_type": "code",
   "execution_count": 20,
   "metadata": {},
   "outputs": [],
   "source": [
    "df2019_monthly = df2019_monthly.rename(columns={\"fixing I course (PLN/MWh)\": \"fixing I course 2019\"}) \n",
    "df2020_monthly = df2020_monthly.rename(columns={\"fixing I course (PLN/MWh)\": \"fixing I course 2020\"}) "
   ]
  },
  {
   "cell_type": "code",
   "execution_count": 21,
   "metadata": {},
   "outputs": [],
   "source": [
    "df_fx_monthly = pd.merge(df2019_monthly, df2020_monthly, how='inner', on=['month_name']) "
   ]
  },
  {
   "cell_type": "code",
   "execution_count": 22,
   "metadata": {},
   "outputs": [],
   "source": [
    "cats = [\"January\", \"February\", \"March\", \"April\", \"May\", \"June\", \n",
    "        \"July\", \"August\", \"September\", \"October\", \"November\", \"December\"]\n",
    "df_fx_monthly['month_name'] = pd.Categorical(df_fx_monthly['month_name'], categories=cats, ordered=True)\n",
    "df_fx_monthly = df_fx_monthly.sort_values('month_name').reset_index(drop=True)"
   ]
  },
  {
   "cell_type": "code",
   "execution_count": 23,
   "metadata": {},
   "outputs": [],
   "source": [
    "df_fx_monthly.columns = df_fx_monthly.columns.get_level_values(0)"
   ]
  },
  {
   "cell_type": "code",
   "execution_count": 24,
   "metadata": {},
   "outputs": [],
   "source": [
    "df_fx_monthly.columns.values[1] = \"fixing I course 2019_mean\"\n",
    "df_fx_monthly.columns.values[2] = \"fixing I course 2019_std\"\n",
    "df_fx_monthly.columns.values[3] = \"fixing I course 2020_mean\"\n",
    "df_fx_monthly.columns.values[4] = \"fixing I course 2020_std\""
   ]
  },
  {
   "cell_type": "code",
   "execution_count": 25,
   "metadata": {},
   "outputs": [],
   "source": [
    "df_fx_monthly['pl_month_name'] = df_fx_monthly.apply(lambda row: polish_label_r(row), axis=1)"
   ]
  },
  {
   "cell_type": "code",
   "execution_count": 26,
   "metadata": {},
   "outputs": [
    {
     "data": {
      "image/png": "[encoded data removed]",
      "text/plain": [
       "<Figure size 864x504 with 1 Axes>"
      ]
     },
     "metadata": {
      "needs_background": "light"
     },
     "output_type": "display_data"
    }
   ],
   "source": [
    "ind = np.arange(len(df_fx_monthly['fixing I course 2019_mean']))  # the x locations for the groups\n",
    "width = 0.35  # the width of the bars\n",
    "\n",
    "fig, ax = plt.subplots(\n",
    "figsize=(12,7))\n",
    "rects1 = ax.bar(ind - width/2, df_fx_monthly['fixing I course 2019_mean'] , width, yerr=df_fx_monthly['fixing I course 2019_std'],\n",
    "                label='2019', capsize=3)\n",
    "rects2 = ax.bar(ind + width/2, df_fx_monthly['fixing I course 2020_mean'], width, yerr=df_fx_monthly['fixing I course 2020_std'],\n",
    "                label='2020', capsize=3)\n",
    "\n",
    "# Add some text for labels, title and custom x-axis tick labels, etc.\n",
    "ax.set_ylabel('Kurs fixing I (PLN/MWh)')\n",
    "ax.set_title('Fixing I 2019/2020')\n",
    "ax.set_xticks(ind)\n",
    "ax.set_xticklabels(df_fx_monthly['pl_month_name'], rotation=60)\n",
    "ax.grid(color='grey', linestyle='-', linewidth=0.15, alpha=0.5, axis = 'y')\n",
    "ax.legend()\n",
    "\n",
    "\n",
    "fig.tight_layout()\n",
    "\n",
    "plt.show()"
   ]
  },
  {
   "cell_type": "markdown",
   "metadata": {},
   "source": [
    "### 3.1. Data visualization"
   ]
  },
  {
   "cell_type": "code",
   "execution_count": 27,
   "metadata": {},
   "outputs": [
    {
     "data": {
      "text/html": [
       "<div>\n",
       "<style scoped>\n",
       "    .dataframe tbody tr th:only-of-type {\n",
       "        vertical-align: middle;\n",
       "    }\n",
       "\n",
       "    .dataframe tbody tr th {\n",
       "        vertical-align: top;\n",
       "    }\n",
       "\n",
       "    .dataframe thead th {\n",
       "        text-align: right;\n",
       "    }\n",
       "</style>\n",
       "<table border=\"1\" class=\"dataframe\">\n",
       "  <thead>\n",
       "    <tr style=\"text-align: right;\">\n",
       "      <th></th>\n",
       "      <th>date</th>\n",
       "      <th>fixing I course (PLN/MWh)</th>\n",
       "      <th>month</th>\n",
       "      <th>month_name</th>\n",
       "      <th>hour</th>\n",
       "      <th>week</th>\n",
       "      <th>date_normalize</th>\n",
       "      <th>day_of_week</th>\n",
       "      <th>day_of_month</th>\n",
       "      <th>md</th>\n",
       "      <th>season</th>\n",
       "      <th>pl_month_name</th>\n",
       "    </tr>\n",
       "  </thead>\n",
       "  <tbody>\n",
       "    <tr>\n",
       "      <th>0</th>\n",
       "      <td>2020-01-01 00:00:00</td>\n",
       "      <td>144.85</td>\n",
       "      <td>1.0</td>\n",
       "      <td>January</td>\n",
       "      <td>0.0</td>\n",
       "      <td>1.0</td>\n",
       "      <td>2020-01-01</td>\n",
       "      <td>2.0</td>\n",
       "      <td>1.0</td>\n",
       "      <td>01-01</td>\n",
       "      <td>Winter</td>\n",
       "      <td>Styczeń</td>\n",
       "    </tr>\n",
       "    <tr>\n",
       "      <th>1</th>\n",
       "      <td>2020-01-01 01:00:00</td>\n",
       "      <td>134.40</td>\n",
       "      <td>1.0</td>\n",
       "      <td>January</td>\n",
       "      <td>1.0</td>\n",
       "      <td>1.0</td>\n",
       "      <td>2020-01-01</td>\n",
       "      <td>2.0</td>\n",
       "      <td>1.0</td>\n",
       "      <td>01-01</td>\n",
       "      <td>Winter</td>\n",
       "      <td>Styczeń</td>\n",
       "    </tr>\n",
       "    <tr>\n",
       "      <th>2</th>\n",
       "      <td>2020-01-01 02:00:00</td>\n",
       "      <td>127.80</td>\n",
       "      <td>1.0</td>\n",
       "      <td>January</td>\n",
       "      <td>2.0</td>\n",
       "      <td>1.0</td>\n",
       "      <td>2020-01-01</td>\n",
       "      <td>2.0</td>\n",
       "      <td>1.0</td>\n",
       "      <td>01-01</td>\n",
       "      <td>Winter</td>\n",
       "      <td>Styczeń</td>\n",
       "    </tr>\n",
       "    <tr>\n",
       "      <th>3</th>\n",
       "      <td>2020-01-01 03:00:00</td>\n",
       "      <td>118.43</td>\n",
       "      <td>1.0</td>\n",
       "      <td>January</td>\n",
       "      <td>3.0</td>\n",
       "      <td>1.0</td>\n",
       "      <td>2020-01-01</td>\n",
       "      <td>2.0</td>\n",
       "      <td>1.0</td>\n",
       "      <td>01-01</td>\n",
       "      <td>Winter</td>\n",
       "      <td>Styczeń</td>\n",
       "    </tr>\n",
       "    <tr>\n",
       "      <th>4</th>\n",
       "      <td>2020-01-01 04:00:00</td>\n",
       "      <td>109.85</td>\n",
       "      <td>1.0</td>\n",
       "      <td>January</td>\n",
       "      <td>4.0</td>\n",
       "      <td>1.0</td>\n",
       "      <td>2020-01-01</td>\n",
       "      <td>2.0</td>\n",
       "      <td>1.0</td>\n",
       "      <td>01-01</td>\n",
       "      <td>Winter</td>\n",
       "      <td>Styczeń</td>\n",
       "    </tr>\n",
       "    <tr>\n",
       "      <th>...</th>\n",
       "      <td>...</td>\n",
       "      <td>...</td>\n",
       "      <td>...</td>\n",
       "      <td>...</td>\n",
       "      <td>...</td>\n",
       "      <td>...</td>\n",
       "      <td>...</td>\n",
       "      <td>...</td>\n",
       "      <td>...</td>\n",
       "      <td>...</td>\n",
       "      <td>...</td>\n",
       "      <td>...</td>\n",
       "    </tr>\n",
       "    <tr>\n",
       "      <th>8683</th>\n",
       "      <td>2020-12-26 20:00:00</td>\n",
       "      <td>195.00</td>\n",
       "      <td>12.0</td>\n",
       "      <td>December</td>\n",
       "      <td>20.0</td>\n",
       "      <td>52.0</td>\n",
       "      <td>2020-12-26</td>\n",
       "      <td>5.0</td>\n",
       "      <td>26.0</td>\n",
       "      <td>12-26</td>\n",
       "      <td>Winter</td>\n",
       "      <td>Grudzień</td>\n",
       "    </tr>\n",
       "    <tr>\n",
       "      <th>8684</th>\n",
       "      <td>2020-12-26 21:00:00</td>\n",
       "      <td>186.03</td>\n",
       "      <td>12.0</td>\n",
       "      <td>December</td>\n",
       "      <td>21.0</td>\n",
       "      <td>52.0</td>\n",
       "      <td>2020-12-26</td>\n",
       "      <td>5.0</td>\n",
       "      <td>26.0</td>\n",
       "      <td>12-26</td>\n",
       "      <td>Winter</td>\n",
       "      <td>Grudzień</td>\n",
       "    </tr>\n",
       "    <tr>\n",
       "      <th>8685</th>\n",
       "      <td>2020-12-26 22:00:00</td>\n",
       "      <td>174.75</td>\n",
       "      <td>12.0</td>\n",
       "      <td>December</td>\n",
       "      <td>22.0</td>\n",
       "      <td>52.0</td>\n",
       "      <td>2020-12-26</td>\n",
       "      <td>5.0</td>\n",
       "      <td>26.0</td>\n",
       "      <td>12-26</td>\n",
       "      <td>Winter</td>\n",
       "      <td>Grudzień</td>\n",
       "    </tr>\n",
       "    <tr>\n",
       "      <th>8686</th>\n",
       "      <td>2020-12-26 23:00:00</td>\n",
       "      <td>142.73</td>\n",
       "      <td>12.0</td>\n",
       "      <td>December</td>\n",
       "      <td>23.0</td>\n",
       "      <td>52.0</td>\n",
       "      <td>2020-12-26</td>\n",
       "      <td>5.0</td>\n",
       "      <td>26.0</td>\n",
       "      <td>12-26</td>\n",
       "      <td>Winter</td>\n",
       "      <td>Grudzień</td>\n",
       "    </tr>\n",
       "    <tr>\n",
       "      <th>8687</th>\n",
       "      <td>2020-12-27 00:00:00</td>\n",
       "      <td>100.00</td>\n",
       "      <td>12.0</td>\n",
       "      <td>December</td>\n",
       "      <td>0.0</td>\n",
       "      <td>52.0</td>\n",
       "      <td>2020-12-27</td>\n",
       "      <td>6.0</td>\n",
       "      <td>27.0</td>\n",
       "      <td>12-27</td>\n",
       "      <td>Winter</td>\n",
       "      <td>Grudzień</td>\n",
       "    </tr>\n",
       "  </tbody>\n",
       "</table>\n",
       "<p>8688 rows × 12 columns</p>\n",
       "</div>"
      ],
      "text/plain": [
       "                    date  fixing I course (PLN/MWh)  month month_name  hour  \\\n",
       "0    2020-01-01 00:00:00                     144.85    1.0    January   0.0   \n",
       "1    2020-01-01 01:00:00                     134.40    1.0    January   1.0   \n",
       "2    2020-01-01 02:00:00                     127.80    1.0    January   2.0   \n",
       "3    2020-01-01 03:00:00                     118.43    1.0    January   3.0   \n",
       "4    2020-01-01 04:00:00                     109.85    1.0    January   4.0   \n",
       "...                  ...                        ...    ...        ...   ...   \n",
       "8683 2020-12-26 20:00:00                     195.00   12.0   December  20.0   \n",
       "8684 2020-12-26 21:00:00                     186.03   12.0   December  21.0   \n",
       "8685 2020-12-26 22:00:00                     174.75   12.0   December  22.0   \n",
       "8686 2020-12-26 23:00:00                     142.73   12.0   December  23.0   \n",
       "8687 2020-12-27 00:00:00                     100.00   12.0   December   0.0   \n",
       "\n",
       "      week date_normalize  day_of_week  day_of_month     md  season  \\\n",
       "0      1.0     2020-01-01          2.0           1.0  01-01  Winter   \n",
       "1      1.0     2020-01-01          2.0           1.0  01-01  Winter   \n",
       "2      1.0     2020-01-01          2.0           1.0  01-01  Winter   \n",
       "3      1.0     2020-01-01          2.0           1.0  01-01  Winter   \n",
       "4      1.0     2020-01-01          2.0           1.0  01-01  Winter   \n",
       "...    ...            ...          ...           ...    ...     ...   \n",
       "8683  52.0     2020-12-26          5.0          26.0  12-26  Winter   \n",
       "8684  52.0     2020-12-26          5.0          26.0  12-26  Winter   \n",
       "8685  52.0     2020-12-26          5.0          26.0  12-26  Winter   \n",
       "8686  52.0     2020-12-26          5.0          26.0  12-26  Winter   \n",
       "8687  52.0     2020-12-27          6.0          27.0  12-27  Winter   \n",
       "\n",
       "     pl_month_name  \n",
       "0          Styczeń  \n",
       "1          Styczeń  \n",
       "2          Styczeń  \n",
       "3          Styczeń  \n",
       "4          Styczeń  \n",
       "...            ...  \n",
       "8683      Grudzień  \n",
       "8684      Grudzień  \n",
       "8685      Grudzień  \n",
       "8686      Grudzień  \n",
       "8687      Grudzień  \n",
       "\n",
       "[8688 rows x 12 columns]"
      ]
     },
     "execution_count": 27,
     "metadata": {},
     "output_type": "execute_result"
    }
   ],
   "source": [
    "df2020"
   ]
  },
  {
   "cell_type": "code",
   "execution_count": 28,
   "metadata": {},
   "outputs": [],
   "source": [
    "df_fx_hourly = df2020.groupby(['hour']).agg({'fixing I course (PLN/MWh)':np.mean})\n",
    "df_fx_hourly = df_fx_hourly.reset_index() "
   ]
  },
  {
   "cell_type": "code",
   "execution_count": 29,
   "metadata": {},
   "outputs": [],
   "source": [
    "df_fx_hourly['h-m']=df2020['date'].astype(str).str[11:16]"
   ]
  },
  {
   "cell_type": "code",
   "execution_count": 30,
   "metadata": {},
   "outputs": [],
   "source": [
    "df_fx_hourly['fixing I course (PLN/MWh)'][0] = df_fx_hourly['fixing I course (PLN/MWh)'][1]"
   ]
  },
  {
   "cell_type": "code",
   "execution_count": 31,
   "metadata": {},
   "outputs": [
    {
     "data": {
      "image/png": "[encoded data removed]",
      "text/plain": [
       "<Figure size 864x504 with 1 Axes>"
      ]
     },
     "metadata": {
      "needs_background": "light"
     },
     "output_type": "display_data"
    }
   ],
   "source": [
    "fig = plt.subplots(figsize=(12,7))\n",
    "\n",
    "plt.plot(df_fx_hourly['h-m'], df_fx_hourly['fixing I course (PLN/MWh)'], ls='steps',\n",
    "        linewidth=2.0)\n",
    "plt.fill_between(df_fx_hourly['h-m'],df_fx_hourly['fixing I course (PLN/MWh)'], step=\"pre\", alpha=0.2)\n",
    "plt.title('Rozkład godzinowy fixingu I na gieldzie')\n",
    "plt.grid(color='grey', linestyle='-', linewidth=0.15, alpha=0.5, axis = 'y')\n",
    "plt.xticks(df_fx_hourly['h-m'], rotation=60)\n",
    "plt.ylabel(\"Cena I fixingu (PLN)\")\n",
    "plt.margins(0.)\n",
    "plt.ylim(150,250)\n",
    "plt.grid()\n",
    "plt.show()"
   ]
  },
  {
   "cell_type": "code",
   "execution_count": 32,
   "metadata": {},
   "outputs": [],
   "source": [
    "# df_fx_hourly.loc[df_fx_hourly['hour']==0, 'hour'] = 24\n",
    "#df_fx_hourly = df_fx_hourly.sort_values(by=['hour'], na_position = 'first', ascending=True).reset_index(drop = True)"
   ]
  },
  {
   "cell_type": "code",
   "execution_count": 33,
   "metadata": {},
   "outputs": [],
   "source": [
    "df2019_daily = df2019.groupby(['date_normalize']).agg({'fixing I course (PLN/MWh)':np.mean}).reset_index() \n",
    "df2019_daily['day_of_year'] = pd.to_datetime(df2019_daily['date_normalize']).dt.dayofyear\n",
    "\n",
    "df2020_daily = df2020.groupby(['date_normalize']).agg({'fixing I course (PLN/MWh)':np.mean}).reset_index() \n",
    "df2020_daily['day_of_year'] = pd.to_datetime(df2020_daily['date_normalize']).dt.dayofyear"
   ]
  },
  {
   "cell_type": "code",
   "execution_count": 34,
   "metadata": {},
   "outputs": [
    {
     "data": {
      "text/html": [
       "<div>\n",
       "<style scoped>\n",
       "    .dataframe tbody tr th:only-of-type {\n",
       "        vertical-align: middle;\n",
       "    }\n",
       "\n",
       "    .dataframe tbody tr th {\n",
       "        vertical-align: top;\n",
       "    }\n",
       "\n",
       "    .dataframe thead th {\n",
       "        text-align: right;\n",
       "    }\n",
       "</style>\n",
       "<table border=\"1\" class=\"dataframe\">\n",
       "  <thead>\n",
       "    <tr style=\"text-align: right;\">\n",
       "      <th></th>\n",
       "      <th>fixing I course (PLN/MWh)</th>\n",
       "      <th>day_of_year</th>\n",
       "    </tr>\n",
       "  </thead>\n",
       "  <tbody>\n",
       "    <tr>\n",
       "      <th>count</th>\n",
       "      <td>364.000000</td>\n",
       "      <td>364.000000</td>\n",
       "    </tr>\n",
       "    <tr>\n",
       "      <th>mean</th>\n",
       "      <td>230.317911</td>\n",
       "      <td>183.500000</td>\n",
       "    </tr>\n",
       "    <tr>\n",
       "      <th>std</th>\n",
       "      <td>36.339319</td>\n",
       "      <td>105.221988</td>\n",
       "    </tr>\n",
       "    <tr>\n",
       "      <th>min</th>\n",
       "      <td>118.285833</td>\n",
       "      <td>2.000000</td>\n",
       "    </tr>\n",
       "    <tr>\n",
       "      <th>25%</th>\n",
       "      <td>209.293750</td>\n",
       "      <td>92.750000</td>\n",
       "    </tr>\n",
       "    <tr>\n",
       "      <th>50%</th>\n",
       "      <td>232.432500</td>\n",
       "      <td>183.500000</td>\n",
       "    </tr>\n",
       "    <tr>\n",
       "      <th>75%</th>\n",
       "      <td>255.559687</td>\n",
       "      <td>274.250000</td>\n",
       "    </tr>\n",
       "    <tr>\n",
       "      <th>max</th>\n",
       "      <td>336.123333</td>\n",
       "      <td>365.000000</td>\n",
       "    </tr>\n",
       "  </tbody>\n",
       "</table>\n",
       "</div>"
      ],
      "text/plain": [
       "       fixing I course (PLN/MWh)  day_of_year\n",
       "count                 364.000000   364.000000\n",
       "mean                  230.317911   183.500000\n",
       "std                    36.339319   105.221988\n",
       "min                   118.285833     2.000000\n",
       "25%                   209.293750    92.750000\n",
       "50%                   232.432500   183.500000\n",
       "75%                   255.559687   274.250000\n",
       "max                   336.123333   365.000000"
      ]
     },
     "execution_count": 34,
     "metadata": {},
     "output_type": "execute_result"
    }
   ],
   "source": [
    "df2019_daily.describe()"
   ]
  },
  {
   "cell_type": "code",
   "execution_count": 35,
   "metadata": {},
   "outputs": [],
   "source": [
    "minmax_2019 = df2019.groupby(['date_normalize']).agg({'fixing I course (PLN/MWh)': ['min', 'max']}).reset_index()\n",
    "minmax_2019['diff'] = minmax_2019['fixing I course (PLN/MWh)']['max'] - minmax_2019['fixing I course (PLN/MWh)']['min']\n",
    "\n",
    "minmax_2020 = df2020.groupby(['date_normalize']).agg({'fixing I course (PLN/MWh)': ['min', 'max']}).reset_index()\n",
    "minmax_2020['diff'] = minmax_2020['fixing I course (PLN/MWh)']['max'] - minmax_2020['fixing I course (PLN/MWh)']['min']"
   ]
  },
  {
   "cell_type": "code",
   "execution_count": 36,
   "metadata": {},
   "outputs": [
    {
     "data": {
      "text/plain": [
       "count    362.000000\n",
       "mean      95.067680\n",
       "std       42.226844\n",
       "min        0.000000\n",
       "25%       60.512500\n",
       "50%       89.910000\n",
       "75%      117.990000\n",
       "max      249.270000\n",
       "Name: diff, dtype: float64"
      ]
     },
     "execution_count": 36,
     "metadata": {},
     "output_type": "execute_result"
    }
   ],
   "source": [
    "minmax_2020['diff'].describe()"
   ]
  },
  {
   "cell_type": "code",
   "execution_count": 37,
   "metadata": {},
   "outputs": [
    {
     "data": {
      "image/png": "[encoded data removed]",
      "text/plain": [
       "<Figure size 864x504 with 1 Axes>"
      ]
     },
     "metadata": {
      "needs_background": "light"
     },
     "output_type": "display_data"
    }
   ],
   "source": [
    "fig = plt.subplots(figsize=(12,7))\n",
    "plt.plot(df2019_daily['day_of_year'], df2019_daily['fixing I course (PLN/MWh)'], label = \"line 1\")\n",
    "plt.plot(df2020_daily['day_of_year'], df2020_daily['fixing I course (PLN/MWh)'], label = \"line 2\")\n",
    "plt.xlabel('x - axis')\n",
    "plt.ylabel('y - axis')\n",
    "plt.xticks(df2020_daily['day_of_year'], rotation=60)\n",
    "plt.title('Zmiana cen fixingu I ')\n",
    "plt.grid(color='grey', linestyle='-', linewidth=0.15, alpha=0.5, axis = 'y')\n",
    "# show a legend on the plot\n",
    "plt.legend()\n",
    "plt.show()"
   ]
  },
  {
   "cell_type": "code",
   "execution_count": null,
   "metadata": {},
   "outputs": [],
   "source": []
  },
  {
   "cell_type": "code",
   "execution_count": 38,
   "metadata": {},
   "outputs": [],
   "source": [
    "df2019_daily = df2019.groupby(['date_normalize', 'pl_month_name']).agg({'fixing I course (PLN/MWh)':np.mean}).reset_index() \n",
    "df2019_daily['day_of_year'] = pd.to_datetime(df2019_daily['date_normalize']).dt.dayofyear\n",
    "\n",
    "df2020_daily = df2020.groupby(['date_normalize', 'pl_month_name']).agg({'fixing I course (PLN/MWh)':np.mean}).reset_index() \n",
    "df2020_daily['day_of_year'] = pd.to_datetime(df2020_daily['date_normalize']).dt.dayofyear"
   ]
  },
  {
   "cell_type": "code",
   "execution_count": 39,
   "metadata": {},
   "outputs": [],
   "source": [
    "index_ = [pd.to_datetime(date, format='%Y-%m-%d').date() \n",
    "        for date in pd.date_range('2004-03-01', '2012-12-01', freq=\"M\")]"
   ]
  },
  {
   "cell_type": "code",
   "execution_count": 40,
   "metadata": {},
   "outputs": [
    {
     "data": {
      "text/html": [
       "<div>\n",
       "<style scoped>\n",
       "    .dataframe tbody tr th:only-of-type {\n",
       "        vertical-align: middle;\n",
       "    }\n",
       "\n",
       "    .dataframe tbody tr th {\n",
       "        vertical-align: top;\n",
       "    }\n",
       "\n",
       "    .dataframe thead th {\n",
       "        text-align: right;\n",
       "    }\n",
       "</style>\n",
       "<table border=\"1\" class=\"dataframe\">\n",
       "  <thead>\n",
       "    <tr style=\"text-align: right;\">\n",
       "      <th></th>\n",
       "      <th>date_normalize</th>\n",
       "      <th>pl_month_name</th>\n",
       "      <th>fixing I course (PLN/MWh)</th>\n",
       "      <th>day_of_year</th>\n",
       "    </tr>\n",
       "  </thead>\n",
       "  <tbody>\n",
       "    <tr>\n",
       "      <th>0</th>\n",
       "      <td>2019-01-02</td>\n",
       "      <td>Styczeń</td>\n",
       "      <td>162.571304</td>\n",
       "      <td>2</td>\n",
       "    </tr>\n",
       "    <tr>\n",
       "      <th>1</th>\n",
       "      <td>2019-01-03</td>\n",
       "      <td>Styczeń</td>\n",
       "      <td>223.377083</td>\n",
       "      <td>3</td>\n",
       "    </tr>\n",
       "    <tr>\n",
       "      <th>2</th>\n",
       "      <td>2019-01-04</td>\n",
       "      <td>Styczeń</td>\n",
       "      <td>242.027083</td>\n",
       "      <td>4</td>\n",
       "    </tr>\n",
       "    <tr>\n",
       "      <th>3</th>\n",
       "      <td>2019-01-05</td>\n",
       "      <td>Styczeń</td>\n",
       "      <td>219.932917</td>\n",
       "      <td>5</td>\n",
       "    </tr>\n",
       "    <tr>\n",
       "      <th>4</th>\n",
       "      <td>2019-01-06</td>\n",
       "      <td>Styczeń</td>\n",
       "      <td>213.270833</td>\n",
       "      <td>6</td>\n",
       "    </tr>\n",
       "    <tr>\n",
       "      <th>...</th>\n",
       "      <td>...</td>\n",
       "      <td>...</td>\n",
       "      <td>...</td>\n",
       "      <td>...</td>\n",
       "    </tr>\n",
       "    <tr>\n",
       "      <th>359</th>\n",
       "      <td>2019-12-27</td>\n",
       "      <td>Grudzień</td>\n",
       "      <td>183.994583</td>\n",
       "      <td>361</td>\n",
       "    </tr>\n",
       "    <tr>\n",
       "      <th>360</th>\n",
       "      <td>2019-12-28</td>\n",
       "      <td>Grudzień</td>\n",
       "      <td>175.540417</td>\n",
       "      <td>362</td>\n",
       "    </tr>\n",
       "    <tr>\n",
       "      <th>361</th>\n",
       "      <td>2019-12-29</td>\n",
       "      <td>Grudzień</td>\n",
       "      <td>168.481667</td>\n",
       "      <td>363</td>\n",
       "    </tr>\n",
       "    <tr>\n",
       "      <th>362</th>\n",
       "      <td>2019-12-30</td>\n",
       "      <td>Grudzień</td>\n",
       "      <td>132.883333</td>\n",
       "      <td>364</td>\n",
       "    </tr>\n",
       "    <tr>\n",
       "      <th>363</th>\n",
       "      <td>2019-12-31</td>\n",
       "      <td>Grudzień</td>\n",
       "      <td>118.285833</td>\n",
       "      <td>365</td>\n",
       "    </tr>\n",
       "  </tbody>\n",
       "</table>\n",
       "<p>364 rows × 4 columns</p>\n",
       "</div>"
      ],
      "text/plain": [
       "    date_normalize pl_month_name  fixing I course (PLN/MWh)  day_of_year\n",
       "0       2019-01-02       Styczeń                 162.571304            2\n",
       "1       2019-01-03       Styczeń                 223.377083            3\n",
       "2       2019-01-04       Styczeń                 242.027083            4\n",
       "3       2019-01-05       Styczeń                 219.932917            5\n",
       "4       2019-01-06       Styczeń                 213.270833            6\n",
       "..             ...           ...                        ...          ...\n",
       "359     2019-12-27      Grudzień                 183.994583          361\n",
       "360     2019-12-28      Grudzień                 175.540417          362\n",
       "361     2019-12-29      Grudzień                 168.481667          363\n",
       "362     2019-12-30      Grudzień                 132.883333          364\n",
       "363     2019-12-31      Grudzień                 118.285833          365\n",
       "\n",
       "[364 rows x 4 columns]"
      ]
     },
     "execution_count": 40,
     "metadata": {},
     "output_type": "execute_result"
    }
   ],
   "source": [
    "df2019_daily"
   ]
  },
  {
   "cell_type": "code",
   "execution_count": null,
   "metadata": {},
   "outputs": [],
   "source": [
    "df_daily = pd.merge(df2019_daily, df2020_daily, how='inner', on=['day_of_year']) "
   ]
  },
  {
   "cell_type": "code",
   "execution_count": null,
   "metadata": {},
   "outputs": [],
   "source": [
    "df2019_daily= df2019_daily.groupby(['date_normalize']).agg({'min fixing I':np.min}).reset_index() "
   ]
  },
  {
   "cell_type": "code",
   "execution_count": null,
   "metadata": {},
   "outputs": [],
   "source": []
  },
  {
   "cell_type": "code",
   "execution_count": null,
   "metadata": {},
   "outputs": [],
   "source": []
  },
  {
   "cell_type": "code",
   "execution_count": null,
   "metadata": {},
   "outputs": [],
   "source": [
    "df_daily['min'] = df2019.groupby('date_normalize')['fixing I course (PLN/MWh)'].min()\n",
    "df_daily['max'] = df2019.groupby('date_normalize')['fixing I course (PLN/MWh)'].max()"
   ]
  },
  {
   "cell_type": "code",
   "execution_count": null,
   "metadata": {},
   "outputs": [],
   "source": []
  },
  {
   "cell_type": "code",
   "execution_count": 293,
   "metadata": {},
   "outputs": [],
   "source": [
    "df2019_daily = df2019.groupby(['date_normalize']).agg({'fixing I course (PLN/MWh)':np.mean}).reset_index() \n",
    "df2019_daily['day_of_year'] = pd.to_datetime(df2019_daily['date_normalize']).dt.dayofyear\n",
    "\n",
    "df2020_daily = df2020.groupby(['date_normalize']).agg({'fixing I course (PLN/MWh)':np.mean}).reset_index() \n",
    "df2020_daily['day_of_year'] = pd.to_datetime(df2020_daily['date_normalize']).dt.dayofyear"
   ]
  }
 ],
 "metadata": {
  "kernelspec": {
   "display_name": "Python 3",
   "language": "python",
   "name": "python3"
  },
  "language_info": {
   "codemirror_mode": {
    "name": "ipython",
    "version": 3
   },
   "file_extension": ".py",
   "mimetype": "text/x-python",
   "name": "python",
   "nbconvert_exporter": "python",
   "pygments_lexer": "ipython3",
   "version": "3.7.3"
  }
 },
 "nbformat": 4,
 "nbformat_minor": 2
}
