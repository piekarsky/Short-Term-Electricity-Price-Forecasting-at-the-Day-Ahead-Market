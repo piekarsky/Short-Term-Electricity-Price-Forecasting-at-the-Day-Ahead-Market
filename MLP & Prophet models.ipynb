{
 "cells": [
  {
   "cell_type": "code",
   "execution_count": 3,
   "id": "8a7443a7",
   "metadata": {},
   "outputs": [],
   "source": [
    "\n",
    "import pandas as pd\n",
    "import numpy as np\n",
    "import matplotlib.pyplot as plt\n",
    "from sklearn.preprocessing import MinMaxScaler\n",
    "from sklearn.metrics import mean_squared_error\n",
    "\n",
    "#import pytorch_lightning as pl\n",
    "import warnings\n",
    "warnings.filterwarnings(\"ignore\")\n",
    "\n",
    "\n",
    "df = pd.read_excel('./data/data.xlsx', skiprows=0)\n",
    "del df['Unnamed: 0']"
   ]
  },
  {
   "cell_type": "code",
   "execution_count": 4,
   "id": "6d8f19f2",
   "metadata": {},
   "outputs": [
    {
     "data": {
      "text/plain": [
       "Index(['date', 'value', 'electricity demand',\n",
       "       'generation of energy from wind sources', 'is_weekend',\n",
       "       'code of the day', 'value lag24', 'value lag48', 'value lag72',\n",
       "       'value lag96', 'value lag120', 'value lag144', 'value lag168',\n",
       "       'value lag336', 'generation of energy from wind sources lag24',\n",
       "       'generation of energy from wind sources lag48',\n",
       "       'generation of energy from wind sources lag72',\n",
       "       'generation of energy from wind sources lag96',\n",
       "       'generation of energy from wind sources lag120',\n",
       "       'generation of energy from wind sources lag144',\n",
       "       'generation of energy from wind sources lag168',\n",
       "       'generation of energy from wind sources lag336',\n",
       "       'electricity demand lag24', 'electricity demand lag48',\n",
       "       'electricity demand lag72', 'electricity demand lag96',\n",
       "       'electricity demand lag120', 'electricity demand lag144',\n",
       "       'electricity demand lag168', 'electricity demand lag336'],\n",
       "      dtype='object')"
      ]
     },
     "execution_count": 4,
     "metadata": {},
     "output_type": "execute_result"
    }
   ],
   "source": [
    "df.columns"
   ]
  },
  {
   "cell_type": "code",
   "execution_count": 5,
   "id": "ad443fa9",
   "metadata": {},
   "outputs": [],
   "source": [
    "df = df.set_index(\"date\", drop=True)"
   ]
  },
  {
   "cell_type": "code",
   "execution_count": 6,
   "id": "531d8d3e",
   "metadata": {},
   "outputs": [],
   "source": [
    "target = \"value\"\n",
    "target_mean = df[target].mean()\n",
    "target_stdev = df[target].std()\n",
    "\n",
    "for c in df.columns:\n",
    "    mean = df[c].mean()\n",
    "    stdev = df[c].std()\n",
    "\n",
    "    df[c] = (df[c] - mean) / stdev\n",
    "    "
   ]
  },
  {
   "cell_type": "markdown",
   "id": "004f3320",
   "metadata": {},
   "source": [
    "# MLP"
   ]
  },
  {
   "cell_type": "code",
   "execution_count": 9,
   "id": "8a0b97f9",
   "metadata": {},
   "outputs": [],
   "source": [
    "from sklearn.neural_network import MLPRegressor\n",
    "from sklearn.model_selection import train_test_split\n",
    "\n",
    "\n",
    "y = df[[target]]\n",
    "X = df.drop(columns=[target])\n",
    "\n",
    "X_train, X_test, y_train, y_test = train_test_split(X, y, test_size=0.0805, shuffle=False)"
   ]
  },
  {
   "cell_type": "code",
   "execution_count": null,
   "id": "3e25cb27",
   "metadata": {},
   "outputs": [],
   "source": [
    "model = MLPRegressor(random_state=1, activation='identity',  learning_rate='constant', learning_rate_init=0.0003,\n",
    "                     early_stopping=True,  validation_fraction=0.0917, verbose=False, power_t=0.5, batch_size=32, alpha=0.0005, shuffle=False,\n",
    "                      max_iter=60, solver='adam',  hidden_layer_sizes=(128,2)).fit(X_train, y_train)\n"
   ]
  },
  {
   "cell_type": "code",
   "execution_count": null,
   "id": "7954e31e",
   "metadata": {},
   "outputs": [],
   "source": [
    "prediction = model.predict(X_test)\n",
    "result = pd.DataFrame(y_test)\n",
    "result[\"Model forecast\"] = prediction\n",
    "result = result.sort_index()\n",
    "\n",
    "\n",
    "for c in result.columns:\n",
    "    result[c] = result[c] * target_stdev + target_mean\n",
    "\n",
    "\n",
    "df_result = result.reset_index(drop=False)\n",
    "\n",
    "df_out = df_result[df_test_plot['date']>='2020-10-01 01:00:00']\n",
    "\n"
   ]
  },
  {
   "cell_type": "code",
   "execution_count": null,
   "id": "5d731d0b",
   "metadata": {},
   "outputs": [],
   "source": [
    "from sklearn.metrics import mean_absolute_error, mean_squared_error, r2_score, mean_absolute_percentage_error\n",
    "def calculate_metrics(df_test_plot):\n",
    "    return {'mae' : mean_absolute_error(df_test_plot.value, df_test_plot['Model forecast']),\n",
    "            'rmse' : mean_squared_error(df_test_plot.value, df_test_plot['Model forecast']) ** 0.5,\n",
    "            'r2' : r2_score(df_test_plot.value, df_test_plot['Model forecast']),\n",
    "             'mape' : mean_absolute_percentage_error(df_test_plot.value, df_test_plot['Model forecast'])*100}\n",
    "\n",
    "\n",
    "result_metrics = calculate_metrics(df_test_plot)"
   ]
  },
  {
   "cell_type": "markdown",
   "id": "fd329ab5",
   "metadata": {},
   "source": [
    "# Prophet"
   ]
  },
  {
   "cell_type": "code",
   "execution_count": null,
   "id": "87758c41",
   "metadata": {},
   "outputs": [],
   "source": [
    "from prophet import Prophet\n",
    "\n",
    "model = Prophet(weekly_seasonality=False, daily_seasonality=False, seasonality_mode='additive')"
   ]
  },
  {
   "cell_type": "code",
   "execution_count": null,
   "id": "74083f1e",
   "metadata": {},
   "outputs": [],
   "source": [
    "ex_features = ['lag24', 'zap_lag24', 'zrodla_wiatrowe_lag24', \"is_weekend\", 'lag48', 'lag72', 'lag96', 'lag120', 'lag144','lag168', 'lag336', 'zap_lag48',\n",
    "             'zrodla_wiatrowe_lag48', 'zap_lag72', 'zrodla_wiatrowe_lag72', 'zap_lag96', 'zrodla_wiatrowe_lag96',\n",
    "              'zap_lag120', 'zrodla_wiatrowe_lag120', 'zap_lag144', 'zrodla_wiatrowe_lag144', 'zap_lag168', 'zrodla_wiatrowe_lag168',\n",
    "              'zap_lag336', 'zrodla_wiatrowe_lag336', 'kod_dnia']"
   ]
  },
  {
   "cell_type": "code",
   "execution_count": null,
   "id": "6ebc793f",
   "metadata": {},
   "outputs": [],
   "source": [
    "for feature in ex_features:\n",
    "    model.add_regressor(feature)\n",
    "    \n",
    "model.fit(df_train[[\"date\", \"value\"] + ex_features].rename(columns={\"date\": \"ds\", \"value\": \"y\"}))\n",
    "\n",
    "forecast = model.predict(df_test[[\"date\", \"value\"] + ex_features].rename(columns={\"date\": \"ds\"}))\n",
    "\n",
    "forecast_ = forecast.loc[:, forecast.columns.intersection(['ds','yhat'])]\n",
    "forecast_ = forecast_.rename(columns={\"ds\": \"date\"})\n",
    "df_test_ =  df_test.loc[:, df_test.columns.intersection(['date','value'])]\n",
    "new_df = pd.merge(df_test_, forecast_, how='left', on=['date'])\n",
    "\n",
    "new_df = new_df.set_index(\"date\")\n",
    "\n",
    "for c in new_df.columns:\n",
    "    new_df[c] = new_df[c] * target_stdev + target_mean\n",
    "    \n",
    "df_test_plot = new_df\n",
    "\n",
    "df_test_plot = df_test_plot.reset_index(drop=False)\n",
    "df_test_plot = df_test_plot.rename(columns={\"yhat\": \"Model forecast\"})\n"
   ]
  }
 ],
 "metadata": {
  "kernelspec": {
   "display_name": "Python 3 (ipykernel)",
   "language": "python",
   "name": "python3"
  },
  "language_info": {
   "codemirror_mode": {
    "name": "ipython",
    "version": 3
   },
   "file_extension": ".py",
   "mimetype": "text/x-python",
   "name": "python",
   "nbconvert_exporter": "python",
   "pygments_lexer": "ipython3",
   "version": "3.7.3"
  }
 },
 "nbformat": 4,
 "nbformat_minor": 5
}
