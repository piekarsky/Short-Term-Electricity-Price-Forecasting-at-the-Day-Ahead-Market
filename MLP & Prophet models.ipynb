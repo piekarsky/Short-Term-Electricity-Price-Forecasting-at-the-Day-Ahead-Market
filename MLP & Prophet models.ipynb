{
 "cells": [
  {
   "cell_type": "code",
   "execution_count": null,
   "id": "8a7443a7",
   "metadata": {},
   "outputs": [],
   "source": []
  },
  {
   "cell_type": "markdown",
   "id": "004f3320",
   "metadata": {},
   "source": [
    "# MLP"
   ]
  },
  {
   "cell_type": "code",
   "execution_count": null,
   "id": "8a0b97f9",
   "metadata": {},
   "outputs": [],
   "source": [
    "target_col = 'value'\n",
    "\n",
    "\n",
    "target_mean = dfs[target_col].mean()\n",
    "target_stdev = dfs[target_col].std()\n",
    "\n",
    "for c in dfs.columns:\n",
    "    mean = dfs[c].mean()\n",
    "    stdev = dfs[c].std()\n",
    "\n",
    "    dfs[c] = (dfs[c] - mean) / stdev\n",
    "\n",
    "    \n",
    "from sklearn.model_selection import train_test_split\n",
    "\n",
    "y = dfs[[target_col]]\n",
    "X = dfs.drop(columns=[target_col])\n",
    "\n",
    "from sklearn.linear_model import LinearRegression\n",
    "\n",
    "\n",
    "X_train, X_test, y_train, y_test = train_test_split(X, y, test_size=0.0805, shuffle=False)"
   ]
  },
  {
   "cell_type": "code",
   "execution_count": null,
   "id": "3e25cb27",
   "metadata": {},
   "outputs": [],
   "source": [
    "model = MLPRegressor(random_state=1, activation='identity',  learning_rate='constant', learning_rate_init=0.0003,\n",
    "                     early_stopping=True,  validation_fraction=0.0917, verbose=False, power_t=0.5, batch_size=32, alpha=0.0005, shuffle=False,\n",
    "                      max_iter=60, solver='adam',  hidden_layer_sizes=(128,2)).fit(X_train, y_train)\n"
   ]
  },
  {
   "cell_type": "code",
   "execution_count": null,
   "id": "7954e31e",
   "metadata": {},
   "outputs": [],
   "source": [
    "prediction = model.predict(X_test)\n",
    "result = pd.DataFrame(y_test)\n",
    "result[\"Model forecast\"] = prediction\n",
    "result = result.sort_index()\n",
    "\n",
    "\n",
    "for c in result.columns:\n",
    "    result[c] = result[c] * target_stdev + target_mean\n",
    "\n",
    "\n",
    "df_test_plot = result.reset_index(drop=False)\n",
    "\n",
    "df_out = df_test_plot[df_test_plot['date']>='2020-10-01 01:00:00']\n",
    "\n"
   ]
  },
  {
   "cell_type": "code",
   "execution_count": null,
   "id": "5d731d0b",
   "metadata": {},
   "outputs": [],
   "source": [
    "from sklearn.metrics import mean_absolute_error, mean_squared_error, r2_score, mean_absolute_percentage_error\n",
    "def calculate_metrics(df_test_plot):\n",
    "    return {'mae' : mean_absolute_error(df_test_plot.value, df_test_plot['Model forecast']),\n",
    "            'rmse' : mean_squared_error(df_test_plot.value, df_test_plot['Model forecast']) ** 0.5,\n",
    "            'r2' : r2_score(df_test_plot.value, df_test_plot['Model forecast']),\n",
    "             'mape' : mean_absolute_percentage_error(df_test_plot.value, df_test_plot['Model forecast'])*100}\n",
    "\n",
    "\n",
    "result_metrics = calculate_metrics(df_test_plot)"
   ]
  },
  {
   "cell_type": "markdown",
   "id": "fd329ab5",
   "metadata": {},
   "source": [
    "# Prophet"
   ]
  },
  {
   "cell_type": "code",
   "execution_count": null,
   "id": "87758c41",
   "metadata": {},
   "outputs": [],
   "source": [
    "from prophet import Prophet\n",
    "\n",
    "model = Prophet(weekly_seasonality=False, daily_seasonality=False, seasonality_mode='additive')"
   ]
  },
  {
   "cell_type": "code",
   "execution_count": null,
   "id": "74083f1e",
   "metadata": {},
   "outputs": [],
   "source": [
    "ex_features = ['lag24', 'zap_lag24', 'zrodla_wiatrowe_lag24', \"is_weekend\", 'lag48', 'lag72', 'lag96', 'lag120', 'lag144','lag168', 'lag336', 'zap_lag48',\n",
    "             'zrodla_wiatrowe_lag48', 'zap_lag72', 'zrodla_wiatrowe_lag72', 'zap_lag96', 'zrodla_wiatrowe_lag96',\n",
    "              'zap_lag120', 'zrodla_wiatrowe_lag120', 'zap_lag144', 'zrodla_wiatrowe_lag144', 'zap_lag168', 'zrodla_wiatrowe_lag168',\n",
    "              'zap_lag336', 'zrodla_wiatrowe_lag336', 'kod_dnia']"
   ]
  },
  {
   "cell_type": "code",
   "execution_count": null,
   "id": "6ebc793f",
   "metadata": {},
   "outputs": [],
   "source": [
    "for feature in ex_features:\n",
    "    model.add_regressor(feature)\n",
    "    \n",
    "model.fit(df_train[[\"date\", \"value\"] + ex_features].rename(columns={\"date\": \"ds\", \"value\": \"y\"}))\n",
    "\n",
    "forecast = model.predict(df_test[[\"date\", \"value\"] + ex_features].rename(columns={\"date\": \"ds\"}))\n",
    "\n",
    "forecast_ = forecast.loc[:, forecast.columns.intersection(['ds','yhat'])]\n",
    "forecast_ = forecast_.rename(columns={\"ds\": \"date\"})\n",
    "df_test_ =  df_test.loc[:, df_test.columns.intersection(['date','value'])]\n",
    "new_df = pd.merge(df_test_, forecast_, how='left', on=['date'])\n",
    "\n",
    "new_df = new_df.set_index(\"date\")\n",
    "\n",
    "for c in new_df.columns:\n",
    "    new_df[c] = new_df[c] * target_stdev + target_mean\n",
    "    \n",
    "df_test_plot = new_df\n",
    "\n",
    "df_test_plot = df_test_plot.reset_index(drop=False)\n",
    "df_test_plot = df_test_plot.rename(columns={\"yhat\": \"Model forecast\"})\n"
   ]
  }
 ],
 "metadata": {
  "kernelspec": {
   "display_name": "Python 3 (ipykernel)",
   "language": "python",
   "name": "python3"
  },
  "language_info": {
   "codemirror_mode": {
    "name": "ipython",
    "version": 3
   },
   "file_extension": ".py",
   "mimetype": "text/x-python",
   "name": "python",
   "nbconvert_exporter": "python",
   "pygments_lexer": "ipython3",
   "version": "3.7.3"
  }
 },
 "nbformat": 4,
 "nbformat_minor": 5
}
