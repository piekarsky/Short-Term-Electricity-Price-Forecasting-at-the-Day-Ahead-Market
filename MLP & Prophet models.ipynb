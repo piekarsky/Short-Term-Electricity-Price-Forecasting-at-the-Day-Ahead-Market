{
 "cells": [
  {
   "cell_type": "code",
   "execution_count": null,
   "id": "8a7443a7",
   "metadata": {},
   "outputs": [],
   "source": []
  },
  {
   "cell_type": "markdown",
   "id": "fd329ab5",
   "metadata": {},
   "source": [
    "# Prophet"
   ]
  },
  {
   "cell_type": "code",
   "execution_count": null,
   "id": "87758c41",
   "metadata": {},
   "outputs": [],
   "source": [
    "from prophet import Prophet\n",
    "\n",
    "model = Prophet(weekly_seasonality=False, daily_seasonality=False, seasonality_mode='additive')"
   ]
  },
  {
   "cell_type": "code",
   "execution_count": null,
   "id": "74083f1e",
   "metadata": {},
   "outputs": [],
   "source": [
    "ex_features = ['lag24', 'zap_lag24', 'zrodla_wiatrowe_lag24', \"is_weekend\", 'lag48', 'lag72', 'lag96', 'lag120', 'lag144','lag168', 'lag336', 'zap_lag48',\n",
    "             'zrodla_wiatrowe_lag48', 'zap_lag72', 'zrodla_wiatrowe_lag72', 'zap_lag96', 'zrodla_wiatrowe_lag96',\n",
    "              'zap_lag120', 'zrodla_wiatrowe_lag120', 'zap_lag144', 'zrodla_wiatrowe_lag144', 'zap_lag168', 'zrodla_wiatrowe_lag168',\n",
    "              'zap_lag336', 'zrodla_wiatrowe_lag336', 'kod_dnia']"
   ]
  },
  {
   "cell_type": "code",
   "execution_count": null,
   "id": "6ebc793f",
   "metadata": {},
   "outputs": [],
   "source": [
    "for feature in ex_features:\n",
    "    model.add_regressor(feature)\n",
    "    \n",
    "model.fit(df_train[[\"date\", \"value\"] + ex_features].rename(columns={\"date\": \"ds\", \"value\": \"y\"}))\n",
    "\n",
    "forecast = model.predict(df_test[[\"date\", \"value\"] + ex_features].rename(columns={\"date\": \"ds\"}))\n",
    "\n",
    "forecast_ = forecast.loc[:, forecast.columns.intersection(['ds','yhat'])]\n",
    "forecast_ = forecast_.rename(columns={\"ds\": \"date\"})\n",
    "df_test_ =  df_test.loc[:, df_test.columns.intersection(['date','value'])]\n",
    "new_df = pd.merge(df_test_, forecast_, how='left', on=['date'])\n",
    "\n",
    "new_df = new_df.set_index(\"date\")\n",
    "\n",
    "for c in new_df.columns:\n",
    "    new_df[c] = new_df[c] * target_stdev + target_mean\n",
    "    \n",
    "df_test_plot = new_df\n",
    "\n",
    "df_test_plot = df_test_plot.reset_index(drop=False)\n",
    "df_test_plot = df_test_plot.rename(columns={\"yhat\": \"Model forecast\"})\n"
   ]
  }
 ],
 "metadata": {
  "kernelspec": {
   "display_name": "Python 3 (ipykernel)",
   "language": "python",
   "name": "python3"
  },
  "language_info": {
   "codemirror_mode": {
    "name": "ipython",
    "version": 3
   },
   "file_extension": ".py",
   "mimetype": "text/x-python",
   "name": "python",
   "nbconvert_exporter": "python",
   "pygments_lexer": "ipython3",
   "version": "3.7.3"
  }
 },
 "nbformat": 4,
 "nbformat_minor": 5
}
